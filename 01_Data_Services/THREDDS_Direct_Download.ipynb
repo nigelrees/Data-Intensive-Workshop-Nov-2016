{
 "cells": [
  {
   "cell_type": "markdown",
   "metadata": {},
   "source": [
    "![](../nci-logo.png)\n",
    "\n",
    "-------\n",
    "# THREDDS Data Server: Direct Download\n",
    "\n",
    "\n",
    "\n",
    "### In this notebook:\n",
    "\n",
    "- How to download files through NCI's THREDDS data server\n",
    "\n",
    "\n",
    "\n",
    "#### The following material uses Geoscience Australia's Landsat 8 Data Collection which is available under the Creative Commons License 4.0. For more information on the collection and licensing, please [click here](http://geonetwork.nci.org.au/geonetwork/srv/eng/catalog.search#/metadata/c6de0bb5-1ba1-635e-e044-00144fdd4fa6). \n",
    "\n",
    "#### And then acknowledgement of any other contributions. \n",
    "---------\n",
    "\n",
    "<br>\n",
    "\n"
   ]
  },
  {
   "cell_type": "markdown",
   "metadata": {},
   "source": [
    "## Browse for data\n",
    "\n",
    "Begin by going to NCI's Geonetwork page: http://geonetwork.nci.org.au/\n",
    "\n",
    "This page contains the metadata records for NCI Data Collections as well as information on where to find the data. \n",
    "\n",
    "<img src=\"./images/gn1.png\">\n",
    "\n",
    "In this example, we will search for Landsat data:\n",
    "\n",
    "<img src=\"./images/gn2.png\">\n",
    "\n",
    "If we click on the first result, we see a brief overview of the metadata record. **Note:** For the full record, navigate to the upper-right corner of your browser to change to the \"Full view\" (eyeball icon). \n",
    "\n",
    "One of the options under **Download and links** is the NCI THREDDS Data Server Catalog page: \n",
    "\n",
    "<img src=\"./images/gn3.png\">\n",
    "\n",
    "By navigating to this link, the available (public) data subcollections and datasets will be visible:\n",
    "\n",
    "<img src=\"./images/thredds10.png\">\n",
    "\n",
    "\n",
    "In this example, let's navigate to the ** LANDSAT data: scenes and tiles/ tiles/ EPSG3577/ LS8_OLI_TIRS_NBAR/ ** dataset: \n",
    "\n",
    "<img src=\"./images/thredds11.png\">"
   ]
  },
  {
   "cell_type": "markdown",
   "metadata": {},
   "source": [
    "## To access the data we have several options, this example will cover how to download files directly from THREDDS. \n",
    "\n",
    "###  1. Select a data file\n",
    "\n",
    "<img src=\"./images/thredds12.png\">"
   ]
  },
  {
   "cell_type": "markdown",
   "metadata": {},
   "source": [
    "### 2. File download\n",
    "\n",
    "To download the full file, click the link titled: **HTTPServer** and the download should commence. \n",
    "\n",
    "\n",
    "\n",
    "<img src=\"./images/thredds1.png\">"
   ]
  }
 ],
 "metadata": {
  "anaconda-cloud": {},
  "kernelspec": {
   "display_name": "Python [default]",
   "language": "python",
   "name": "python2"
  },
  "language_info": {
   "codemirror_mode": {
    "name": "ipython",
    "version": 2
   },
   "file_extension": ".py",
   "mimetype": "text/x-python",
   "name": "python",
   "nbconvert_exporter": "python",
   "pygments_lexer": "ipython2",
   "version": "2.7.12"
  }
 },
 "nbformat": 4,
 "nbformat_minor": 0
}
